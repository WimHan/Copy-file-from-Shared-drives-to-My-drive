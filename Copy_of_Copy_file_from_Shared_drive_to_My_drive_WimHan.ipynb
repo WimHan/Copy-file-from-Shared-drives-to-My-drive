{
  "nbformat": 4,
  "nbformat_minor": 0,
  "metadata": {
    "colab": {
      "name": "Copy of Copy_file from Shared drive to My drive_WimHan.ipynb",
      "provenance": [],
      "collapsed_sections": [],
      "toc_visible": true,
      "include_colab_link": true
    },
    "kernelspec": {
      "display_name": "Python 3",
      "language": "python",
      "name": "python3"
    }
  },
  "cells": [
    {
      "cell_type": "markdown",
      "metadata": {
        "id": "view-in-github",
        "colab_type": "text"
      },
      "source": [
        "<a href=\"https://colab.research.google.com/github/WimHan/Copy-file-from-Shared-drives-to-My-drive/blob/master/Copy_of_Copy_file_from_Shared_drive_to_My_drive_WimHan.ipynb\" target=\"_parent\"><img src=\"https://colab.research.google.com/assets/colab-badge.svg\" alt=\"Open In Colab\"/></a>"
      ]
    },
    {
      "cell_type": "markdown",
      "metadata": {
        "id": "aQuWDmfm9YOi",
        "colab_type": "text"
      },
      "source": [
        "# Copy file from Shared drives to My drive"
      ]
    },
    {
      "cell_type": "markdown",
      "metadata": {
        "id": "qYk44mBwJf6E",
        "colab_type": "text"
      },
      "source": [
        "To get more disk space:\n",
        "> Go to Runtime -> Change Runtime -> choose Runtime type:Python 3 and the Hardware Accelerator: GPU.  You will get around 100GB Disk."
      ]
    },
    {
      "cell_type": "markdown",
      "metadata": {
        "id": "Uf90U73y9YOj",
        "colab_type": "text"
      },
      "source": [
        "### 1. Mount Google Drive\n",
        "To stream files we need to mount Google Drive."
      ]
    },
    {
      "cell_type": "code",
      "metadata": {
        "colab_type": "code",
        "id": "oWM9l2fvtuvO",
        "colab": {}
      },
      "source": [
        "from google.colab import drive\n",
        "\n",
        "drive.mount(\"/content/drive\")"
      ],
      "execution_count": 0,
      "outputs": []
    },
    {
      "cell_type": "markdown",
      "metadata": {
        "id": "R_1XuuIf9YOn",
        "colab_type": "text"
      },
      "source": [
        "### 2. Copy  a file from Shared drives to My drive\n",
        "It does not copy all files from a folder, beacuse My drive <= 15GB and Shared drives >= 1TB"
      ]
    },
    {
      "cell_type": "markdown",
      "metadata": {
        "id": "-PAT_zF51Bh0",
        "colab_type": "text"
      },
      "source": [
        "2.1 Input variables"
      ]
    },
    {
      "cell_type": "code",
      "metadata": {
        "id": "GMATeFYp1NSu",
        "colab_type": "code",
        "colab": {}
      },
      "source": [
        "#@title ## Input variables\n",
        "\n",
        "\n",
        "#@markdown ---\n",
        "#@markdown # Enter a file path:\n",
        "#@markdown ####path Shared Drive=/content/drive/Shared drives/...\n",
        "#@markdown ####path My drive=/content/drive/My Drive\n",
        "inputPath = \"/content/drive/Shared drives/...\" #@param {type:\"string\"}\n",
        "outputPath = \"/content/drive/My Drive/path_output\" #@param {type:\"string\"}\n",
        "#@markdown # Enter a filename:\n",
        "inputFileName = \"\" #@param {type:\"string\"}\n",
        "#@markdown ---\n"
      ],
      "execution_count": 0,
      "outputs": []
    },
    {
      "cell_type": "markdown",
      "metadata": {
        "id": "09hwTPFr2sim",
        "colab_type": "text"
      },
      "source": [
        "2.2 Run copy file"
      ]
    },
    {
      "cell_type": "code",
      "metadata": {
        "colab_type": "code",
        "id": "0et2A6N3udA0",
        "cellView": "both",
        "colab": {}
      },
      "source": [
        "## written by Wim Han\n",
        "\n",
        "import os, shutil\n",
        "\n",
        "Quit = False\n",
        "if not os.path.exists('/content/drive/Shared drives'):\n",
        "    print('Shared drives do not exist!')\n",
        "    Quit = True\n",
        "    exit(1)  # exit() does not react in Colab\n",
        "\n",
        "if not Quit:    \n",
        "    print('inputPath:',inputPath)\n",
        "    print('outputPath:',outputPath)\n",
        "    print('inputFileName:',inputFileName)\n",
        "\n",
        "\n",
        "if (not Quit) and (not os.path.exists(inputPath)):\n",
        "    print('inputPath does not exist!')\n",
        "    Quit = True\n",
        "    exit(1)  # exit() does not react in Colab\n",
        "\t\n",
        "\n",
        "if not Quit and inputFileName == \"\":\n",
        "    files_listing = os.listdir(inputPath)\n",
        "    if not os.listdir(inputPath):\n",
        "        print(\"The input directory is empty.\")\n",
        "        exit(1)\n",
        "    else:\n",
        "        if len(os.listdir(inputPath)) > 0: \n",
        "            print('inputFileName=empty,','choose a file below:')\n",
        "            print()\n",
        "  \n",
        "        for f in files_listing:\n",
        "            if os.path.isdir(os.path.join(inputPath, f)):\n",
        "                pass  # do not print subdirectories\n",
        "            else:\n",
        "                print(f)  # print file name\n",
        "    exit(1)\n",
        "\n",
        "elif not Quit:\n",
        "    exists = os.path.isfile(inputPath + '/'+ inputFileName)\n",
        "    if not exists:\n",
        "        print('\"'+ inputFileName+ '\" does NOT exist.')\n",
        "        exit(1)\n",
        "    else:\n",
        "        if not os.path.exists(outputPath):\n",
        "            os.makedirs(outputPath)\n",
        "    \n",
        "        shutil.copy2(inputPath+'/'+inputFileName, outputPath + '/'+ inputFileName)\n",
        "        print('copy \"'+inputFileName+'\" to',outputPath)\n"
      ],
      "execution_count": 0,
      "outputs": []
    }
  ]
}